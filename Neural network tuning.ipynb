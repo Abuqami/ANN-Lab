{
 "cells": [
  {
   "cell_type": "markdown",
   "metadata": {},
   "source": [
    "# Neural network Tuning"
   ]
  },
  {
   "cell_type": "code",
   "execution_count": 21,
   "metadata": {},
   "outputs": [],
   "source": [
    "# Importing necesary packages\n",
    "import numpy\n",
    "import pandas as pd\n",
    "from sklearn.model_selection import GridSearchCV \n",
    "from keras.models import Sequential\n",
    "from keras.layers import Dense\n",
    "from plotly import express as px\n",
    "import warnings\n",
    "warnings.filterwarnings('ignore')\n",
    "\n",
    "from keras.wrappers.scikit_learn import KerasClassifier"
   ]
  },
  {
   "cell_type": "code",
   "execution_count": null,
   "metadata": {},
   "outputs": [],
   "source": []
  },
  {
   "cell_type": "markdown",
   "metadata": {},
   "source": [
    "# part 1 - Tuning batch and epoch"
   ]
  },
  {
   "cell_type": "code",
   "execution_count": 22,
   "metadata": {},
   "outputs": [],
   "source": [
    "# load the dataset for India diabetes\n",
    "data = pd.read_csv('diabetes.csv')"
   ]
  },
  {
   "cell_type": "code",
   "execution_count": 23,
   "metadata": {},
   "outputs": [
    {
     "data": {
      "text/html": [
       "<div>\n",
       "<style scoped>\n",
       "    .dataframe tbody tr th:only-of-type {\n",
       "        vertical-align: middle;\n",
       "    }\n",
       "\n",
       "    .dataframe tbody tr th {\n",
       "        vertical-align: top;\n",
       "    }\n",
       "\n",
       "    .dataframe thead th {\n",
       "        text-align: right;\n",
       "    }\n",
       "</style>\n",
       "<table border=\"1\" class=\"dataframe\">\n",
       "  <thead>\n",
       "    <tr style=\"text-align: right;\">\n",
       "      <th></th>\n",
       "      <th>Pregnancies</th>\n",
       "      <th>Glucose</th>\n",
       "      <th>BloodPressure</th>\n",
       "      <th>SkinThickness</th>\n",
       "      <th>Insulin</th>\n",
       "      <th>BMI</th>\n",
       "      <th>DiabetesPedigreeFunction</th>\n",
       "      <th>Age</th>\n",
       "      <th>Outcome</th>\n",
       "    </tr>\n",
       "  </thead>\n",
       "  <tbody>\n",
       "    <tr>\n",
       "      <th>0</th>\n",
       "      <td>6</td>\n",
       "      <td>148</td>\n",
       "      <td>72</td>\n",
       "      <td>35</td>\n",
       "      <td>0</td>\n",
       "      <td>33.6</td>\n",
       "      <td>0.627</td>\n",
       "      <td>50</td>\n",
       "      <td>1</td>\n",
       "    </tr>\n",
       "    <tr>\n",
       "      <th>1</th>\n",
       "      <td>1</td>\n",
       "      <td>85</td>\n",
       "      <td>66</td>\n",
       "      <td>29</td>\n",
       "      <td>0</td>\n",
       "      <td>26.6</td>\n",
       "      <td>0.351</td>\n",
       "      <td>31</td>\n",
       "      <td>0</td>\n",
       "    </tr>\n",
       "    <tr>\n",
       "      <th>2</th>\n",
       "      <td>8</td>\n",
       "      <td>183</td>\n",
       "      <td>64</td>\n",
       "      <td>0</td>\n",
       "      <td>0</td>\n",
       "      <td>23.3</td>\n",
       "      <td>0.672</td>\n",
       "      <td>32</td>\n",
       "      <td>1</td>\n",
       "    </tr>\n",
       "    <tr>\n",
       "      <th>3</th>\n",
       "      <td>1</td>\n",
       "      <td>89</td>\n",
       "      <td>66</td>\n",
       "      <td>23</td>\n",
       "      <td>94</td>\n",
       "      <td>28.1</td>\n",
       "      <td>0.167</td>\n",
       "      <td>21</td>\n",
       "      <td>0</td>\n",
       "    </tr>\n",
       "    <tr>\n",
       "      <th>4</th>\n",
       "      <td>0</td>\n",
       "      <td>137</td>\n",
       "      <td>40</td>\n",
       "      <td>35</td>\n",
       "      <td>168</td>\n",
       "      <td>43.1</td>\n",
       "      <td>2.288</td>\n",
       "      <td>33</td>\n",
       "      <td>1</td>\n",
       "    </tr>\n",
       "  </tbody>\n",
       "</table>\n",
       "</div>"
      ],
      "text/plain": [
       "   Pregnancies  Glucose  BloodPressure  SkinThickness  Insulin   BMI  \\\n",
       "0            6      148             72             35        0  33.6   \n",
       "1            1       85             66             29        0  26.6   \n",
       "2            8      183             64              0        0  23.3   \n",
       "3            1       89             66             23       94  28.1   \n",
       "4            0      137             40             35      168  43.1   \n",
       "\n",
       "   DiabetesPedigreeFunction  Age  Outcome  \n",
       "0                     0.627   50        1  \n",
       "1                     0.351   31        0  \n",
       "2                     0.672   32        1  \n",
       "3                     0.167   21        0  \n",
       "4                     2.288   33        1  "
      ]
     },
     "execution_count": 23,
     "metadata": {},
     "output_type": "execute_result"
    }
   ],
   "source": [
    "#viewing data\n",
    "data.head()"
   ]
  },
  {
   "cell_type": "code",
   "execution_count": 24,
   "metadata": {},
   "outputs": [],
   "source": [
    "# split into predictors and response\n",
    "X = data.iloc[:,0:8] #predictors\n",
    "Y = data.iloc[:,8] #response"
   ]
  },
  {
   "cell_type": "code",
   "execution_count": 25,
   "metadata": {},
   "outputs": [],
   "source": [
    "# Function to create model,for KerasClassifier\n",
    "def create_my_model():\n",
    "    #defining my model\n",
    "    mymodel = Sequential()\n",
    "    mymodel.add(Dense(12, input_dim=8, activation='relu'))\n",
    "    mymodel.add(Dense(1, activation='sigmoid'))\n",
    "    \n",
    "    # Compile the model\n",
    "    mymodel.compile(loss='binary_crossentropy', optimizer='adam', metrics=['accuracy'])\n",
    "    return mymodel"
   ]
  },
  {
   "cell_type": "code",
   "execution_count": 26,
   "metadata": {},
   "outputs": [],
   "source": [
    "# create model\n",
    "model = KerasClassifier(build_fn=create_my_model)"
   ]
  },
  {
   "cell_type": "code",
   "execution_count": 27,
   "metadata": {},
   "outputs": [],
   "source": [
    "# define the grid search parameters\n",
    "batchSize = [10, 20, 40, 60, 80, 100] # يجرب اكثر من حجم عينة ويستعملها في القريد سيرش\n",
    "epochs = [10, 30, 50] # كم عدد المرات اللي راح يتدرب فيها المودل"
   ]
  },
  {
   "cell_type": "code",
   "execution_count": 28,
   "metadata": {},
   "outputs": [
    {
     "name": "stdout",
     "output_type": "stream",
     "text": [
      "Epoch 1/50\n",
      "39/39 [==============================] - 1s 1ms/step - loss: 7.0612 - accuracy: 0.4505\n",
      "Epoch 2/50\n",
      "39/39 [==============================] - 0s 2ms/step - loss: 4.8837 - accuracy: 0.4870\n",
      "Epoch 3/50\n",
      "39/39 [==============================] - 0s 1ms/step - loss: 3.4108 - accuracy: 0.5026\n",
      "Epoch 4/50\n",
      "39/39 [==============================] - 0s 2ms/step - loss: 2.4386 - accuracy: 0.5391\n",
      "Epoch 5/50\n",
      "39/39 [==============================] - 0s 2ms/step - loss: 1.7672 - accuracy: 0.5716\n",
      "Epoch 6/50\n",
      "39/39 [==============================] - 0s 2ms/step - loss: 1.2736 - accuracy: 0.6120\n",
      "Epoch 7/50\n",
      "39/39 [==============================] - 0s 1ms/step - loss: 1.0625 - accuracy: 0.6380\n",
      "Epoch 8/50\n",
      "39/39 [==============================] - 0s 1ms/step - loss: 0.9713 - accuracy: 0.6536\n",
      "Epoch 9/50\n",
      "39/39 [==============================] - 0s 2ms/step - loss: 0.9390 - accuracy: 0.6458\n",
      "Epoch 10/50\n",
      "39/39 [==============================] - 0s 2ms/step - loss: 0.8933 - accuracy: 0.6693\n",
      "Epoch 11/50\n",
      "39/39 [==============================] - 0s 1ms/step - loss: 0.9047 - accuracy: 0.6471\n",
      "Epoch 12/50\n",
      "39/39 [==============================] - 0s 1ms/step - loss: 0.8628 - accuracy: 0.6497\n",
      "Epoch 13/50\n",
      "39/39 [==============================] - 0s 1ms/step - loss: 0.9110 - accuracy: 0.6406\n",
      "Epoch 14/50\n",
      "39/39 [==============================] - 0s 1ms/step - loss: 0.8441 - accuracy: 0.6497\n",
      "Epoch 15/50\n",
      "39/39 [==============================] - 0s 1ms/step - loss: 0.8293 - accuracy: 0.6471\n",
      "Epoch 16/50\n",
      "39/39 [==============================] - 0s 2ms/step - loss: 0.7909 - accuracy: 0.6549\n",
      "Epoch 17/50\n",
      "39/39 [==============================] - 0s 1ms/step - loss: 0.7838 - accuracy: 0.6589\n",
      "Epoch 18/50\n",
      "39/39 [==============================] - 0s 1ms/step - loss: 0.7677 - accuracy: 0.6523\n",
      "Epoch 19/50\n",
      "39/39 [==============================] - 0s 1ms/step - loss: 0.7551 - accuracy: 0.6562\n",
      "Epoch 20/50\n",
      "39/39 [==============================] - 0s 1ms/step - loss: 0.7816 - accuracy: 0.6354\n",
      "Epoch 21/50\n",
      "39/39 [==============================] - 0s 1ms/step - loss: 0.7921 - accuracy: 0.6406\n",
      "Epoch 22/50\n",
      "39/39 [==============================] - 0s 1ms/step - loss: 0.7580 - accuracy: 0.6484\n",
      "Epoch 23/50\n",
      "39/39 [==============================] - 0s 833us/step - loss: 0.7839 - accuracy: 0.6380\n",
      "Epoch 24/50\n",
      "39/39 [==============================] - 0s 1ms/step - loss: 0.7105 - accuracy: 0.6562\n",
      "Epoch 25/50\n",
      "39/39 [==============================] - 0s 1ms/step - loss: 0.7250 - accuracy: 0.6641\n",
      "Epoch 26/50\n",
      "39/39 [==============================] - 0s 1ms/step - loss: 0.7164 - accuracy: 0.6484\n",
      "Epoch 27/50\n",
      "39/39 [==============================] - 0s 941us/step - loss: 0.7035 - accuracy: 0.6589\n",
      "Epoch 28/50\n",
      "39/39 [==============================] - 0s 1ms/step - loss: 0.7336 - accuracy: 0.6719\n",
      "Epoch 29/50\n",
      "39/39 [==============================] - 0s 1ms/step - loss: 0.6889 - accuracy: 0.6576\n",
      "Epoch 30/50\n",
      "39/39 [==============================] - 0s 1ms/step - loss: 0.6955 - accuracy: 0.6641\n",
      "Epoch 31/50\n",
      "39/39 [==============================] - 0s 823us/step - loss: 0.6753 - accuracy: 0.6693\n",
      "Epoch 32/50\n",
      "39/39 [==============================] - 0s 833us/step - loss: 0.6794 - accuracy: 0.6589\n",
      "Epoch 33/50\n",
      "39/39 [==============================] - 0s 1ms/step - loss: 0.6642 - accuracy: 0.6536\n",
      "Epoch 34/50\n",
      "39/39 [==============================] - 0s 1ms/step - loss: 0.6690 - accuracy: 0.6680\n",
      "Epoch 35/50\n",
      "39/39 [==============================] - 0s 1ms/step - loss: 0.6575 - accuracy: 0.6693\n",
      "Epoch 36/50\n",
      "39/39 [==============================] - 0s 822us/step - loss: 0.6440 - accuracy: 0.6797\n",
      "Epoch 37/50\n",
      "39/39 [==============================] - 0s 902us/step - loss: 0.6513 - accuracy: 0.6758\n",
      "Epoch 38/50\n",
      "39/39 [==============================] - 0s 1ms/step - loss: 0.6907 - accuracy: 0.6562\n",
      "Epoch 39/50\n",
      "39/39 [==============================] - 0s 1ms/step - loss: 0.6438 - accuracy: 0.6602\n",
      "Epoch 40/50\n",
      "39/39 [==============================] - 0s 823us/step - loss: 0.6418 - accuracy: 0.6706\n",
      "Epoch 41/50\n",
      "39/39 [==============================] - 0s 832us/step - loss: 0.6341 - accuracy: 0.6797\n",
      "Epoch 42/50\n",
      "39/39 [==============================] - 0s 1ms/step - loss: 0.6366 - accuracy: 0.6745\n",
      "Epoch 43/50\n",
      "39/39 [==============================] - 0s 1ms/step - loss: 0.6438 - accuracy: 0.6615\n",
      "Epoch 44/50\n",
      "39/39 [==============================] - 0s 823us/step - loss: 0.6186 - accuracy: 0.6797\n",
      "Epoch 45/50\n",
      "39/39 [==============================] - 0s 822us/step - loss: 0.6245 - accuracy: 0.6732\n",
      "Epoch 46/50\n",
      "39/39 [==============================] - 0s 1ms/step - loss: 0.6103 - accuracy: 0.6940\n",
      "Epoch 47/50\n",
      "39/39 [==============================] - 0s 1ms/step - loss: 0.6179 - accuracy: 0.6758\n",
      "Epoch 48/50\n",
      "39/39 [==============================] - 0s 1ms/step - loss: 0.6374 - accuracy: 0.6732\n",
      "Epoch 49/50\n",
      "39/39 [==============================] - 0s 821us/step - loss: 0.6119 - accuracy: 0.6875\n",
      "Epoch 50/50\n",
      "39/39 [==============================] - 0s 902us/step - loss: 0.6141 - accuracy: 0.6758\n"
     ]
    }
   ],
   "source": [
    "parameter_grid = dict(batch_size=batchSize, epochs=epochs) # حدننا الباراميترز كيف تكون\n",
    "\n",
    "\n",
    "mygrid = GridSearchCV(estimator=model, param_grid=parameter_grid, n_jobs=-1, cv=3)\n",
    "grid_result = mygrid.fit(X, Y)"
   ]
  },
  {
   "cell_type": "code",
   "execution_count": 29,
   "metadata": {},
   "outputs": [
    {
     "name": "stdout",
     "output_type": "stream",
     "text": [
      "Best: 0.677083 using {'batch_size': 20, 'epochs': 50}\n"
     ]
    }
   ],
   "source": [
    "# summarize results\n",
    "print(\"Best: %f using %s\" % (grid_result.best_score_, grid_result.best_params_))"
   ]
  },
  {
   "cell_type": "markdown",
   "metadata": {},
   "source": [
    "# part 2- Optimizing Activation Function"
   ]
  },
  {
   "cell_type": "code",
   "execution_count": 30,
   "metadata": {},
   "outputs": [],
   "source": [
    "# Function to create model\n",
    "def create_my_model(optimizer='adam'):\n",
    "    # create model\n",
    "    mymodel = Sequential()\n",
    "    mymodel.add(Dense(12, input_dim=8, activation='relu'))\n",
    "    mymodel.add(Dense(1, activation='sigmoid'))\n",
    "    # Compile model\n",
    "    mymodel.compile(loss='binary_crossentropy', optimizer=optimizer, metrics=['accuracy'])\n",
    "    return mymodel"
   ]
  },
  {
   "cell_type": "code",
   "execution_count": 31,
   "metadata": {},
   "outputs": [],
   "source": [
    "# create model\n",
    "model = KerasClassifier(build_fn=create_my_model, epochs=50, batch_size=10)"
   ]
  },
  {
   "cell_type": "code",
   "execution_count": 32,
   "metadata": {},
   "outputs": [],
   "source": [
    "# define the grid search parameters\n",
    "optimizer = ['SGD','Adadelta', 'RMSprop', 'Adagrad','Adam'] #Nadam\n",
    "parameter_grid = dict(optimizer=optimizer)"
   ]
  },
  {
   "cell_type": "code",
   "execution_count": 33,
   "metadata": {
    "scrolled": true
   },
   "outputs": [
    {
     "name": "stdout",
     "output_type": "stream",
     "text": [
      "Epoch 1/50\n",
      "77/77 [==============================] - 1s 2ms/step - loss: 8.2247 - accuracy: 0.5156\n",
      "Epoch 2/50\n",
      "77/77 [==============================] - 0s 1ms/step - loss: 2.4644 - accuracy: 0.5977\n",
      "Epoch 3/50\n",
      "77/77 [==============================] - 0s 2ms/step - loss: 1.8737 - accuracy: 0.5872\n",
      "Epoch 4/50\n",
      "77/77 [==============================] - 0s 2ms/step - loss: 1.6194 - accuracy: 0.5820\n",
      "Epoch 5/50\n",
      "77/77 [==============================] - 0s 2ms/step - loss: 1.4063 - accuracy: 0.5898\n",
      "Epoch 6/50\n",
      "77/77 [==============================] - 0s 2ms/step - loss: 1.2039 - accuracy: 0.6133\n",
      "Epoch 7/50\n",
      "77/77 [==============================] - 0s 1ms/step - loss: 1.0858 - accuracy: 0.6172\n",
      "Epoch 8/50\n",
      "77/77 [==============================] - 0s 2ms/step - loss: 1.0021 - accuracy: 0.6302\n",
      "Epoch 9/50\n",
      "77/77 [==============================] - 0s 1ms/step - loss: 0.9408 - accuracy: 0.6380\n",
      "Epoch 10/50\n",
      "77/77 [==============================] - 0s 1ms/step - loss: 0.9134 - accuracy: 0.5964\n",
      "Epoch 11/50\n",
      "77/77 [==============================] - 0s 1ms/step - loss: 0.8559 - accuracy: 0.6471\n",
      "Epoch 12/50\n",
      "77/77 [==============================] - 0s 2ms/step - loss: 0.8263 - accuracy: 0.6471\n",
      "Epoch 13/50\n",
      "77/77 [==============================] - 0s 2ms/step - loss: 0.8269 - accuracy: 0.6549\n",
      "Epoch 14/50\n",
      "77/77 [==============================] - 0s 2ms/step - loss: 0.8091 - accuracy: 0.6419\n",
      "Epoch 15/50\n",
      "77/77 [==============================] - 0s 1ms/step - loss: 0.7994 - accuracy: 0.6406\n",
      "Epoch 16/50\n",
      "77/77 [==============================] - 0s 1ms/step - loss: 0.7859 - accuracy: 0.6432\n",
      "Epoch 17/50\n",
      "77/77 [==============================] - 0s 1ms/step - loss: 0.7551 - accuracy: 0.6680\n",
      "Epoch 18/50\n",
      "77/77 [==============================] - 0s 1ms/step - loss: 0.7529 - accuracy: 0.6732\n",
      "Epoch 19/50\n",
      "77/77 [==============================] - 0s 1ms/step - loss: 0.7414 - accuracy: 0.6758\n",
      "Epoch 20/50\n",
      "77/77 [==============================] - 0s 1ms/step - loss: 0.7425 - accuracy: 0.6914\n",
      "Epoch 21/50\n",
      "77/77 [==============================] - 0s 1ms/step - loss: 0.7292 - accuracy: 0.6615\n",
      "Epoch 22/50\n",
      "77/77 [==============================] - 0s 1ms/step - loss: 0.7191 - accuracy: 0.6719\n",
      "Epoch 23/50\n",
      "77/77 [==============================] - 0s 1ms/step - loss: 0.7009 - accuracy: 0.6862\n",
      "Epoch 24/50\n",
      "77/77 [==============================] - 0s 1ms/step - loss: 0.7141 - accuracy: 0.6849\n",
      "Epoch 25/50\n",
      "77/77 [==============================] - 0s 1ms/step - loss: 0.7185 - accuracy: 0.6523\n",
      "Epoch 26/50\n",
      "77/77 [==============================] - 0s 1ms/step - loss: 0.6936 - accuracy: 0.6784\n",
      "Epoch 27/50\n",
      "77/77 [==============================] - 0s 1ms/step - loss: 0.7152 - accuracy: 0.6836\n",
      "Epoch 28/50\n",
      "77/77 [==============================] - 0s 1ms/step - loss: 0.6841 - accuracy: 0.6641\n",
      "Epoch 29/50\n",
      "77/77 [==============================] - 0s 1ms/step - loss: 0.6895 - accuracy: 0.6745\n",
      "Epoch 30/50\n",
      "77/77 [==============================] - 0s 1ms/step - loss: 0.7040 - accuracy: 0.6745\n",
      "Epoch 31/50\n",
      "77/77 [==============================] - 0s 1ms/step - loss: 0.6822 - accuracy: 0.6758\n",
      "Epoch 32/50\n",
      "77/77 [==============================] - 0s 1ms/step - loss: 0.6794 - accuracy: 0.6797\n",
      "Epoch 33/50\n",
      "77/77 [==============================] - 0s 1ms/step - loss: 0.6780 - accuracy: 0.6732\n",
      "Epoch 34/50\n",
      "77/77 [==============================] - 0s 1ms/step - loss: 0.6670 - accuracy: 0.6875\n",
      "Epoch 35/50\n",
      "77/77 [==============================] - 0s 1ms/step - loss: 0.6766 - accuracy: 0.6875\n",
      "Epoch 36/50\n",
      "77/77 [==============================] - 0s 1ms/step - loss: 0.6632 - accuracy: 0.6823\n",
      "Epoch 37/50\n",
      "77/77 [==============================] - 0s 1ms/step - loss: 0.6683 - accuracy: 0.6888\n",
      "Epoch 38/50\n",
      "77/77 [==============================] - 0s 1ms/step - loss: 0.6758 - accuracy: 0.6745\n",
      "Epoch 39/50\n",
      "77/77 [==============================] - 0s 1ms/step - loss: 0.6575 - accuracy: 0.6901\n",
      "Epoch 40/50\n",
      "77/77 [==============================] - 0s 1ms/step - loss: 0.6456 - accuracy: 0.6901\n",
      "Epoch 41/50\n",
      "77/77 [==============================] - 0s 1ms/step - loss: 0.6640 - accuracy: 0.6797\n",
      "Epoch 42/50\n",
      "77/77 [==============================] - 0s 1ms/step - loss: 0.6603 - accuracy: 0.6914\n",
      "Epoch 43/50\n",
      "77/77 [==============================] - 0s 1ms/step - loss: 0.6359 - accuracy: 0.7057\n",
      "Epoch 44/50\n",
      "77/77 [==============================] - 0s 1ms/step - loss: 0.6583 - accuracy: 0.6732\n",
      "Epoch 45/50\n",
      "77/77 [==============================] - 0s 1ms/step - loss: 0.6448 - accuracy: 0.6888\n",
      "Epoch 46/50\n",
      "77/77 [==============================] - 0s 1ms/step - loss: 0.6295 - accuracy: 0.7083\n",
      "Epoch 47/50\n",
      "77/77 [==============================] - 0s 1ms/step - loss: 0.6493 - accuracy: 0.6719\n",
      "Epoch 48/50\n",
      "77/77 [==============================] - 0s 1ms/step - loss: 0.6440 - accuracy: 0.6888\n",
      "Epoch 49/50\n",
      "77/77 [==============================] - 0s 1ms/step - loss: 0.6321 - accuracy: 0.7005\n",
      "Epoch 50/50\n",
      "77/77 [==============================] - 0s 1ms/step - loss: 0.6161 - accuracy: 0.7031\n"
     ]
    }
   ],
   "source": [
    "grid = GridSearchCV(estimator=model, param_grid=parameter_grid, n_jobs=-1, cv=3)\n",
    "grid_result = grid.fit(X, Y)"
   ]
  },
  {
   "cell_type": "code",
   "execution_count": 34,
   "metadata": {},
   "outputs": [
    {
     "name": "stdout",
     "output_type": "stream",
     "text": [
      "Best: 0.677083 using {'optimizer': 'RMSprop'}\n"
     ]
    }
   ],
   "source": [
    "# summarize results\n",
    "print(\"Best: %f using %s\" % (grid_result.best_score_, grid_result.best_params_)) #0.727865"
   ]
  },
  {
   "cell_type": "code",
   "execution_count": 35,
   "metadata": {},
   "outputs": [
    {
     "data": {
      "text/plain": [
       "(768, 9)"
      ]
     },
     "execution_count": 35,
     "metadata": {},
     "output_type": "execute_result"
    }
   ],
   "source": [
    "data.shape"
   ]
  },
  {
   "cell_type": "markdown",
   "metadata": {},
   "source": [
    "# How can you improve accuracy of the model? "
   ]
  },
  {
   "cell_type": "code",
   "execution_count": 36,
   "metadata": {},
   "outputs": [
    {
     "data": {
      "text/plain": [
       "(724, 9)"
      ]
     },
     "execution_count": 36,
     "metadata": {},
     "output_type": "execute_result"
    }
   ],
   "source": [
    "# i've tried to increase the epochs to 300 and this scored 0.727865 with the optimizer Adam\n",
    "data = data[data['BMI'] != 0]\n",
    "data = data[data['Glucose'] != 0]\n",
    "data = data[data['BloodPressure'] != 0]\n",
    "data.shape"
   ]
  },
  {
   "cell_type": "code",
   "execution_count": 37,
   "metadata": {},
   "outputs": [],
   "source": [
    "model = KerasClassifier(build_fn=create_my_model, epochs=50, batch_size=10)"
   ]
  },
  {
   "cell_type": "code",
   "execution_count": 38,
   "metadata": {},
   "outputs": [],
   "source": [
    "# define the grid search parameters\n",
    "optimizer = ['SGD','Adadelta', 'Nadam', 'Adadelta','Adam'] #Nadam\n",
    "parameter_grid = dict(optimizer=optimizer)"
   ]
  },
  {
   "cell_type": "code",
   "execution_count": 39,
   "metadata": {},
   "outputs": [
    {
     "name": "stdout",
     "output_type": "stream",
     "text": [
      "Epoch 1/50\n",
      "77/77 [==============================] - 1s 1ms/step - loss: 25.7824 - accuracy: 0.6471\n",
      "Epoch 2/50\n",
      "77/77 [==============================] - 0s 1ms/step - loss: 7.9311 - accuracy: 0.6224\n",
      "Epoch 3/50\n",
      "77/77 [==============================] - 0s 1ms/step - loss: 2.9900 - accuracy: 0.5885\n",
      "Epoch 4/50\n",
      "77/77 [==============================] - 0s 1ms/step - loss: 1.4266 - accuracy: 0.5742\n",
      "Epoch 5/50\n",
      "77/77 [==============================] - 0s 1ms/step - loss: 1.2402 - accuracy: 0.5977\n",
      "Epoch 6/50\n",
      "77/77 [==============================] - 0s 2ms/step - loss: 1.1182 - accuracy: 0.6224\n",
      "Epoch 7/50\n",
      "77/77 [==============================] - 0s 1ms/step - loss: 1.0424 - accuracy: 0.6341\n",
      "Epoch 8/50\n",
      "77/77 [==============================] - 0s 2ms/step - loss: 0.9886 - accuracy: 0.6237\n",
      "Epoch 9/50\n",
      "77/77 [==============================] - 0s 2ms/step - loss: 0.9612 - accuracy: 0.6224\n",
      "Epoch 10/50\n",
      "77/77 [==============================] - 0s 2ms/step - loss: 0.9057 - accuracy: 0.6302\n",
      "Epoch 11/50\n",
      "77/77 [==============================] - 0s 2ms/step - loss: 0.8436 - accuracy: 0.6523\n",
      "Epoch 12/50\n",
      "77/77 [==============================] - 0s 2ms/step - loss: 0.8207 - accuracy: 0.6315\n",
      "Epoch 13/50\n",
      "77/77 [==============================] - 0s 2ms/step - loss: 0.8200 - accuracy: 0.6432\n",
      "Epoch 14/50\n",
      "77/77 [==============================] - 0s 2ms/step - loss: 0.7760 - accuracy: 0.6497\n",
      "Epoch 15/50\n",
      "77/77 [==============================] - 0s 2ms/step - loss: 0.7657 - accuracy: 0.6380\n",
      "Epoch 16/50\n",
      "77/77 [==============================] - 0s 2ms/step - loss: 0.7539 - accuracy: 0.6549\n",
      "Epoch 17/50\n",
      "77/77 [==============================] - 0s 1ms/step - loss: 0.7208 - accuracy: 0.6641\n",
      "Epoch 18/50\n",
      "77/77 [==============================] - 0s 1ms/step - loss: 0.7980 - accuracy: 0.6367\n",
      "Epoch 19/50\n",
      "77/77 [==============================] - 0s 1ms/step - loss: 0.7547 - accuracy: 0.6719\n",
      "Epoch 20/50\n",
      "77/77 [==============================] - 0s 1ms/step - loss: 0.7309 - accuracy: 0.6510\n",
      "Epoch 21/50\n",
      "77/77 [==============================] - 0s 1ms/step - loss: 0.7009 - accuracy: 0.6536\n",
      "Epoch 22/50\n",
      "77/77 [==============================] - 0s 1ms/step - loss: 0.6953 - accuracy: 0.6667\n",
      "Epoch 23/50\n",
      "77/77 [==============================] - 0s 1ms/step - loss: 0.6812 - accuracy: 0.6680\n",
      "Epoch 24/50\n",
      "77/77 [==============================] - 0s 1ms/step - loss: 0.7210 - accuracy: 0.6445\n",
      "Epoch 25/50\n",
      "77/77 [==============================] - 0s 1ms/step - loss: 0.6802 - accuracy: 0.6680\n",
      "Epoch 26/50\n",
      "77/77 [==============================] - 0s 1ms/step - loss: 0.6764 - accuracy: 0.6641\n",
      "Epoch 27/50\n",
      "77/77 [==============================] - 0s 2ms/step - loss: 0.6928 - accuracy: 0.6602\n",
      "Epoch 28/50\n",
      "77/77 [==============================] - 0s 2ms/step - loss: 0.6924 - accuracy: 0.6523\n",
      "Epoch 29/50\n",
      "77/77 [==============================] - 0s 1ms/step - loss: 0.6422 - accuracy: 0.6849\n",
      "Epoch 30/50\n",
      "77/77 [==============================] - 0s 1ms/step - loss: 0.7317 - accuracy: 0.6458\n",
      "Epoch 31/50\n",
      "77/77 [==============================] - 0s 1ms/step - loss: 0.6599 - accuracy: 0.6758\n",
      "Epoch 32/50\n",
      "77/77 [==============================] - 0s 2ms/step - loss: 0.6454 - accuracy: 0.6849\n",
      "Epoch 33/50\n",
      "77/77 [==============================] - 0s 1ms/step - loss: 0.6446 - accuracy: 0.6732\n",
      "Epoch 34/50\n",
      "77/77 [==============================] - 0s 1ms/step - loss: 0.6492 - accuracy: 0.6875\n",
      "Epoch 35/50\n",
      "77/77 [==============================] - 0s 1ms/step - loss: 0.6343 - accuracy: 0.6849\n",
      "Epoch 36/50\n",
      "77/77 [==============================] - 0s 1ms/step - loss: 0.6433 - accuracy: 0.6823\n",
      "Epoch 37/50\n",
      "77/77 [==============================] - 0s 1ms/step - loss: 0.6429 - accuracy: 0.6680\n",
      "Epoch 38/50\n",
      "77/77 [==============================] - 0s 1ms/step - loss: 0.6576 - accuracy: 0.6745\n",
      "Epoch 39/50\n",
      "77/77 [==============================] - 0s 2ms/step - loss: 0.6505 - accuracy: 0.6810\n",
      "Epoch 40/50\n",
      "77/77 [==============================] - 0s 1ms/step - loss: 0.6054 - accuracy: 0.7031\n",
      "Epoch 41/50\n",
      "77/77 [==============================] - 0s 1ms/step - loss: 0.6187 - accuracy: 0.6771\n",
      "Epoch 42/50\n",
      "77/77 [==============================] - 0s 1ms/step - loss: 0.6047 - accuracy: 0.7083\n",
      "Epoch 43/50\n",
      "77/77 [==============================] - 0s 1ms/step - loss: 0.6170 - accuracy: 0.6927\n",
      "Epoch 44/50\n",
      "77/77 [==============================] - 0s 1ms/step - loss: 0.6603 - accuracy: 0.6641\n",
      "Epoch 45/50\n",
      "77/77 [==============================] - 0s 2ms/step - loss: 0.6010 - accuracy: 0.6940\n",
      "Epoch 46/50\n",
      "77/77 [==============================] - 0s 1ms/step - loss: 0.6097 - accuracy: 0.6823\n",
      "Epoch 47/50\n",
      "77/77 [==============================] - 0s 1ms/step - loss: 0.6323 - accuracy: 0.6888\n",
      "Epoch 48/50\n",
      "77/77 [==============================] - 0s 1ms/step - loss: 0.6635 - accuracy: 0.6953\n",
      "Epoch 49/50\n",
      "77/77 [==============================] - 0s 1ms/step - loss: 0.6462 - accuracy: 0.6927\n",
      "Epoch 50/50\n",
      "77/77 [==============================] - 0s 1ms/step - loss: 0.6405 - accuracy: 0.6797\n"
     ]
    }
   ],
   "source": [
    "grid = GridSearchCV(estimator=model, param_grid=parameter_grid, n_jobs=-1, cv=3)\n",
    "grid_result = grid.fit(X, Y)"
   ]
  },
  {
   "cell_type": "code",
   "execution_count": 40,
   "metadata": {},
   "outputs": [
    {
     "name": "stdout",
     "output_type": "stream",
     "text": [
      "Best: 0.691406 using {'optimizer': 'Adam'}\n"
     ]
    }
   ],
   "source": [
    "print(\"Best: %f using %s\" % (grid_result.best_score_, grid_result.best_params_)) "
   ]
  }
 ],
 "metadata": {
  "kernelspec": {
   "display_name": "Python 3 (ipykernel)",
   "language": "python",
   "name": "python3"
  },
  "language_info": {
   "codemirror_mode": {
    "name": "ipython",
    "version": 3
   },
   "file_extension": ".py",
   "mimetype": "text/x-python",
   "name": "python",
   "nbconvert_exporter": "python",
   "pygments_lexer": "ipython3",
   "version": "3.11.3"
  }
 },
 "nbformat": 4,
 "nbformat_minor": 2
}
